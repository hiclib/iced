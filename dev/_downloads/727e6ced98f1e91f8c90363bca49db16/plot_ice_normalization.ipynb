{
  "cells": [
    {
      "cell_type": "markdown",
      "metadata": {},
      "source": [
        "\n# Normalizing a contact count matrix\n\nThis example showcases some basic filtering and normalization.\n"
      ]
    },
    {
      "cell_type": "code",
      "execution_count": null,
      "metadata": {
        "collapsed": false
      },
      "outputs": [],
      "source": [
        "import matplotlib.pyplot as plt\nfrom matplotlib import colors\n\nfrom iced import datasets\nfrom iced import filter\nfrom iced import normalization\n\n\n# Loading a sample dataset\ncounts, lengths = datasets.load_sample_yeast()\n\n# Filtering and normalizing contact count data\nnormed = filter.filter_low_counts(counts, lengths=lengths, percentage=0.04)\nnormed = normalization.ICE_normalization(normed)\n\n# Plotting the results using matplotlib\nchromosomes = [\"I\", \"II\", \"III\", \"IV\", \"V\", \"VI\"]\n\nfig, axes = plt.subplots(ncols=2, figsize=(12, 4))\n\naxes[0].imshow(counts, cmap=\"RdBu_r\", norm=colors.SymLogNorm(1),\n               extent=(0, len(counts), 0, len(counts)))\n\n[axes[0].axhline(i, linewidth=1, color=\"#000000\") for i in lengths.cumsum()]\n[axes[0].axvline(i, linewidth=1, color=\"#000000\") for i in lengths.cumsum()]\naxes[0].set_title(\"Raw contact counts\", fontweight=\"bold\")\n\nm = axes[1].imshow(normed, cmap=\"RdBu_r\", norm=colors.SymLogNorm(1),\n                   extent=(0, len(counts), 0, len(counts)))\n[axes[1].axhline(i, linewidth=1, color=\"#000000\") for i in lengths.cumsum()]\n[axes[1].axvline(i, linewidth=1, color=\"#000000\") for i in lengths.cumsum()]\ncb = fig.colorbar(m)\naxes[1].set_title(\"Normalized contact counts\", fontweight=\"bold\")"
      ]
    }
  ],
  "metadata": {
    "kernelspec": {
      "display_name": "Python 3",
      "language": "python",
      "name": "python3"
    },
    "language_info": {
      "codemirror_mode": {
        "name": "ipython",
        "version": 3
      },
      "file_extension": ".py",
      "mimetype": "text/x-python",
      "name": "python",
      "nbconvert_exporter": "python",
      "pygments_lexer": "ipython3",
      "version": "3.8.18"
    }
  },
  "nbformat": 4,
  "nbformat_minor": 0
}