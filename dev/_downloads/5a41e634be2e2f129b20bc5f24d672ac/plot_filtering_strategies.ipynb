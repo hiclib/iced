{
  "cells": [
    {
      "cell_type": "code",
      "execution_count": null,
      "metadata": {
        "collapsed": false
      },
      "outputs": [],
      "source": [
        "%matplotlib inline"
      ]
    },
    {
      "cell_type": "markdown",
      "metadata": {},
      "source": [
        "\n# Different filtering strategies\n\n`iced` provides different filtering strategies. In short:\n\n    - filtering rows and columns that are the most sparse.\n    - filtering of the smallest x% rows and columns in terms of interactions\n    - filtering of the smallest x% **interacting** rows and columns\n"
      ]
    },
    {
      "cell_type": "code",
      "execution_count": null,
      "metadata": {
        "collapsed": false
      },
      "outputs": [],
      "source": [
        "import matplotlib.pyplot as plt\nfrom matplotlib import colors\n\nfrom iced import datasets\nfrom iced import filter\n\n\n# Loading a sample dataset\ncounts, lengths = datasets.load_sample_yeast()\n\n\nfig, axes = plt.subplots(ncols=3, figsize=(12, 4))\ncounts_1 = filter.filter_low_counts(counts, lengths=lengths, percentage=0.04)\ncounts_2 = filter.filter_low_counts(counts, lengths=lengths, percentage=0.04,\n                                    sparsity=False)\ncounts_3 = filter.filter_low_counts(counts, lengths=lengths, percentage=0.04,\n                                    sparsity=False, remove_all_zeros_loci=True)\n\n\n# Plotting the results using matplotlib\nchromosomes = [\"I\", \"II\", \"III\", \"IV\", \"V\", \"VI\"]\n\n\nfor ax, c in zip(axes, [counts_1, counts_2, counts_3]):\n    ax.imshow(c, cmap=\"Blues\", norm=colors.SymLogNorm(1),\n              extent=(0, len(counts), 0, len(counts)))\n\n    [ax.axhline(i, linewidth=1, color=\"#000000\") for i in lengths.cumsum()]\n    [ax.axvline(i, linewidth=1, color=\"#000000\") for i in lengths.cumsum()]\n\naxes[0].set_title(\"Filtering 4% sparsest loci\")\naxes[1].set_title(\"Filtering 4% smallest interacting loci\")\naxes[2].set_title(\"Filtering 4% smallest interacting loci\\n + all \"\n                  \"non-interacting loci\")"
      ]
    }
  ],
  "metadata": {
    "kernelspec": {
      "display_name": "Python 3",
      "language": "python",
      "name": "python3"
    },
    "language_info": {
      "codemirror_mode": {
        "name": "ipython",
        "version": 3
      },
      "file_extension": ".py",
      "mimetype": "text/x-python",
      "name": "python",
      "nbconvert_exporter": "python",
      "pygments_lexer": "ipython3",
      "version": "3.8.16"
    }
  },
  "nbformat": 4,
  "nbformat_minor": 0
}