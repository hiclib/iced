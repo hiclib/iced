{
  "cells": [
    {
      "cell_type": "code",
      "execution_count": null,
      "metadata": {
        "collapsed": false
      },
      "outputs": [],
      "source": [
        "%matplotlib inline"
      ]
    },
    {
      "cell_type": "markdown",
      "metadata": {},
      "source": [
        "\n# Extracting parts of a contact map\n\nThis examples shows how to use a mask to plot only the inter or the intra\ncontact map.\n"
      ]
    },
    {
      "cell_type": "code",
      "execution_count": null,
      "metadata": {
        "collapsed": false
      },
      "outputs": [],
      "source": [
        "import numpy as np\nimport matplotlib.pyplot as plt\nfrom matplotlib import colors\n\nfrom iced import datasets\nfrom iced.utils import get_intra_mask\nfrom iced.utils import get_inter_mask\n\n\n# Loading a sample dataset\ncounts, lengths = datasets.load_sample_yeast()\nintra_mask = get_intra_mask(lengths)\ninter_mask = get_inter_mask(lengths)\n\nfig, axes = plt.subplots(ncols=2, figsize=(12, 6))\ninter_counts = counts.copy()\ninter_counts[intra_mask] = np.nan\nintra_counts = counts.copy()\nintra_counts[inter_mask] = np.nan\n\nm = axes[0].matshow(intra_counts, cmap=\"Blues\", norm=colors.SymLogNorm(1),\n                    extent=(0, len(counts), 0, len(counts)))\nm = axes[1].matshow(inter_counts, cmap=\"Blues\", norm=colors.SymLogNorm(1),\n                    extent=(0, len(counts), 0, len(counts)))\n\naxes[0].set_title(\"Intra-chromosomal maps\")\naxes[1].set_title(\"Inter-chromosomal maps\")\n\n[axes[0].axhline(i, linewidth=1, color=\"#000000\") for i in lengths.cumsum()]\n[axes[0].axvline(i, linewidth=1, color=\"#000000\") for i in lengths.cumsum()]\n[axes[1].axhline(i, linewidth=1, color=\"#000000\") for i in lengths.cumsum()]\n[axes[1].axvline(i, linewidth=1, color=\"#000000\") for i in lengths.cumsum()]"
      ]
    }
  ],
  "metadata": {
    "kernelspec": {
      "display_name": "Python 3",
      "language": "python",
      "name": "python3"
    },
    "language_info": {
      "codemirror_mode": {
        "name": "ipython",
        "version": 3
      },
      "file_extension": ".py",
      "mimetype": "text/x-python",
      "name": "python",
      "nbconvert_exporter": "python",
      "pygments_lexer": "ipython3",
      "version": "3.8.6"
    }
  },
  "nbformat": 4,
  "nbformat_minor": 0
}